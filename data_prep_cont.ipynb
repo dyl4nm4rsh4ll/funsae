{
  "cells": [
    {
      "cell_type": "markdown",
      "metadata": {
        "id": "view-in-github",
        "colab_type": "text"
      },
      "source": [
        "<a href=\"https://colab.research.google.com/github/dyl4nm4rsh4ll/funsae/blob/master/data_prep_cont.ipynb\" target=\"_parent\"><img src=\"https://colab.research.google.com/assets/colab-badge.svg\" alt=\"Open In Colab\"/></a>"
      ]
    },
    {
      "cell_type": "markdown",
      "metadata": {
        "id": "1N5ZSTHGaiAj"
      },
      "source": [
        "# settings"
      ]
    },
    {
      "cell_type": "code",
      "execution_count": null,
      "metadata": {
        "id": "mwvsFkQJaiAk"
      },
      "outputs": [],
      "source": [
        "import copy, itertools, json, os, pickle, sys, time"
      ]
    },
    {
      "cell_type": "code",
      "execution_count": null,
      "metadata": {
        "id": "cDrlIzUUaiAl"
      },
      "outputs": [],
      "source": [
        "from matplotlib import cm, colors\n",
        "import matplotlib.pyplot as plt\n",
        "import numpy as np\n",
        "import pandas as pd\n",
        "import seaborn as sns\n",
        "from scipy import special\n",
        "from scipy import signal as sig\n",
        "from scipy.cluster.hierarchy import linkage, dendrogram, fclusterdata\n",
        "from scipy.spatial.distance import jensenshannon, pdist, squareform, hamming\n",
        "import scipy.stats as stats\n",
        "import scipy.io as sio"
      ]
    },
    {
      "cell_type": "code",
      "execution_count": null,
      "metadata": {
        "id": "QpjjKkqKaiAm"
      },
      "outputs": [],
      "source": [
        "aa_babel = {\n",
        "  \"alphabet\": \"ARNDCQEGHILKMFPSTWYV-\",\n",
        "  \"tri_alphabet\": [\n",
        "    \"ALA\", \"ARG\", \"ASN\", \"ASP\", \"CYS\", \"GLN\", \"GLU\", \"GLY\",\n",
        "    \"HIS\", \"ILE\", \"LEU\", \"LYS\", \"MET\", \"PHE\", \"PRO\", \"SER\",\n",
        "    \"THR\", \"TRP\", \"TYR\", \"VAL\", \"GAP\"\n",
        "  ]\n",
        "}\n",
        "aa_babel[\"a2i\"] = {a: i for i, a in enumerate(aa_babel[\"alphabet\"])}\n",
        "aa_babel[\"i2a\"] = {i: a for i, a in enumerate(aa_babel[\"alphabet\"])}\n",
        "aa_babel[\"tri2a\"] = dict(zip(aa_babel[\"tri_alphabet\"], aa_babel[\"alphabet\"]))\n",
        "aa_babel[\"tri2i\"] = {aaa: i for i, aaa in enumerate(aa_babel[\"tri_alphabet\"])}"
      ]
    },
    {
      "cell_type": "code",
      "execution_count": null,
      "metadata": {
        "id": "0XmXUmvvaiAm"
      },
      "outputs": [],
      "source": [
        "plt.style.use(\"default\")"
      ]
    },
    {
      "cell_type": "markdown",
      "metadata": {
        "id": "ygE_E_ANaiAm"
      },
      "source": [
        "# methods"
      ]
    },
    {
      "cell_type": "code",
      "execution_count": null,
      "metadata": {
        "id": "8dEK18gOaiAn"
      },
      "outputs": [],
      "source": [
        "def con_mtx(f, chains, tri2a, rs, rs_ng, X_ng, diff_max):\n",
        "  \"\"\"confind output to contact matrix\"\"\"\n",
        "  # measured contacts dataframe\n",
        "  try: df = pd.read_csv(f, sep=\"\\t\", header=None, names=[\"kind\", \"i\", \"j\", \"con\", \"ia\", \"ja\"])\n",
        "  except: return None\n",
        "    # wrt selected chains\n",
        "  df_c0 = df.copy()[df[\"i\"].str.contains(chains[0]) & df[\"j\"].str.contains(chains[0])]\n",
        "  df_c0[\"i\"] = df_c0[\"i\"].apply(lambda x: int(x.split(\",\")[1]))\n",
        "  df_c0[\"j\"] = df_c0[\"j\"].apply(lambda x: int(x.split(\",\")[1]))\n",
        "  # homo- and hetero- dimers\n",
        "  if len(chains) == 2:\n",
        "    c0c1_offset = df_c0[[\"i\", \"j\"]].astype(\"int\").max().max()\n",
        "    df_c1 = df.copy()[\n",
        "      (df[\"i\"].str.contains(chains[1]) & df[\"j\"].str.contains(chains[0])) |\n",
        "      (df[\"i\"].str.contains(chains[0]) & df[\"j\"].str.contains(chains[1])) |\n",
        "      (df[\"i\"].str.contains(chains[1]) & df[\"j\"].str.contains(chains[1]))\n",
        "    ]\n",
        "    df_c1[\"i\"] = df_c1[\"i\"].apply(lambda x: int(x.split(\",\")[1]))\n",
        "    df_c1[\"j\"] = df_c1[\"j\"].apply(lambda x: int(x.split(\",\")[1]))\n",
        "    df = pd.concat([df_c0, df_c1], 0)\n",
        "  else: df = df_c0\n",
        "  # clean\n",
        "  df[\"ia\"] = df[\"ia\"].apply(lambda x: tri2a[x]).astype(\"str\")\n",
        "  df[\"ja\"] = df[\"ja\"].apply(lambda x: tri2a[x]).astype(\"str\")\n",
        "\n",
        "  # collate sequences / indices\n",
        "    # reference indices / sequence\n",
        "  rs_a = np.array(list(\"\".join(rs).upper()))\n",
        "  rs_i = np.arange(len(rs_a))\n",
        "    # x-tal indices / sequence\n",
        "  xt_i_a = {**dict(zip(df[\"i\"], df[\"ia\"])), **dict(zip(df[\"j\"], df[\"ja\"]))}\n",
        "  xt_a = \"\".join(list(xt_i_a.values()))\n",
        "  xt_i = np.sort(list(xt_i_a.keys()))\n",
        "    # missing indices, sort\n",
        "  xt_present = np.array(xt_i)\n",
        "  xt_missing = np.setdiff1d(np.arange(np.max([np.max(xt_i), np.max(rs_i)])+1), xt_present)\n",
        "  xt_i_a.update({i: \"-\" for i in xt_missing})\n",
        "  xt_i_a = {i: xt_i_a[i] for i in np.sort(list(xt_i_a.keys()))}\n",
        "    # x-tal clean\n",
        "  xt_a = np.array(list(xt_i_a.values()))\n",
        "  xt_i = np.sort(np.array(list(xt_i_a.keys())))\n",
        "    # map\n",
        "  xi2ri, xia2ria = map_idx(xt_a, xt_i, xt_missing, rs_a, rs_i, diff_max)\n",
        "  \n",
        "  # measured contacts\n",
        "  con = np.zeros((len(rs_a), len(rs_a)))\n",
        "  df[\"i\"], df[\"j\"] = df[\"i\"].map(xi2ri), df[\"j\"].map(xi2ri)\n",
        "  df = df[df[\"i\"].notnull() & df[\"j\"].notnull()]\n",
        "  for i, j, val in zip(df[\"i\"], df[\"j\"], df[\"con\"]):\n",
        "    con[int(i), int(j)] += val\n",
        "    con[int(j), int(i)] += val\n",
        "\n",
        "  # collate, collect\n",
        "  con = con[rs_ng, :][:, rs_ng][:, X_ng][X_ng, :]\n",
        "    # index matching... wow\n",
        "  con2rs = np.array(list(xia2ria.items()))\n",
        "  con2rs_ng = con2rs[np.in1d(np.array([int(x[:-1]) for x in con2rs[:, 1]]), rs_ng)]\n",
        "  con2rs_ng[:, 1] = [str(i)+a[-1] for i, a in enumerate(con2rs_ng[:, 1])]\n",
        "  con2X_ng = con2rs_ng[np.in1d(np.array([int(x[:-1]) for x in con2rs_ng[:, 1]]), X_ng)]\n",
        "  con2X_ng[:, 1] = [str(i)+a[-1] for i, a in enumerate(con2X_ng[:, 1])]\n",
        "  return {\"con2X_ng\": con2X_ng, \"con\": con}"
      ]
    },
    {
      "cell_type": "code",
      "execution_count": null,
      "metadata": {
        "id": "uoEzuf7HaiAo"
      },
      "outputs": [],
      "source": [
        "def ds_dms(rs, rs_ng, X_ng, dY, a2i, diff_max):\n",
        "  \"\"\"DMS data wrt DeepSequence\"\"\"\n",
        "  # clean\n",
        "  dY_cols = {\n",
        "    \"mutant\": \"muts\",\n",
        "    \"mutation_effect_prediction_independent\": \"ds.sw\",\n",
        "    \"mutation_effect_prediction_pairwise\": \"ds.pw\",\n",
        "    \"mutation_effect_prediction_vae_1\": \"ds.v1\",\n",
        "    \"mutation_effect_prediction_vae_2\": \"ds.v2\",\n",
        "    \"mutation_effect_prediction_vae_3\": \"ds.v3\",\n",
        "    \"mutation_effect_prediction_vae_4\": \"ds.v4\",\n",
        "    \"mutation_effect_prediction_vae_5\": \"ds.v5\",\n",
        "    \"mutation_effect_prediction_vae_ensemble\": \"ds.vE\"\n",
        "  }\n",
        "  dY_cols.update({c: \"dms.\"+c for c in dY.columns if c not in dY_cols.keys()})\n",
        "  dY = dY[[c for c in dY.columns if \"Unnamed\" not in c]].rename(columns=dY_cols)\n",
        "  dY = dY[dY[\"muts\"].str.count(\":\")+1 <= diff_max]\n",
        "  dY = dY[~dY[\"muts\"].str.contains(\"wt\")]\n",
        "\n",
        "  # reference sequence / indices / tensor\n",
        "  rs_a = np.array(list(\"\".join(rs).upper()))\n",
        "  rs_i = np.arange(len(rs_a))\n",
        "  rX = np.zeros((len(rs_a), len(a2i)))\n",
        "  for i, a in enumerate(rs_a): rX[i, a2i[a.upper()]] = 1\n",
        "\n",
        "  # collate dms\n",
        "  muts = dY[\"muts\"]\n",
        "  num_muts = muts.str.count(\":\")\n",
        "  Nw_muts = np.concatenate(muts.apply(lambda x: [y[:-1] for y in x.split(\":\")]).values)\n",
        "  dms_i_a = {int(x[1:]): x[0] for x in Nw_muts}\n",
        "  dms_i = np.sort(list(dms_i_a.keys()))\n",
        "    # missing indices, sort\n",
        "  dms_present = np.array(dms_i)\n",
        "  dms_missing = np.setdiff1d(np.arange(1, np.max(dms_i)+1), dms_present)\n",
        "  dms_i_a.update({i: \"-\" for i in dms_missing})\n",
        "  dms_i_a = {i: dms_i_a[i] for i in np.sort(list(dms_i_a.keys()))}\n",
        "    # sequence / indices / index mapping\n",
        "  dms_i = np.sort(list(dms_i_a.keys()))\n",
        "  dms_a = np.array([dms_i_a[i] for i in dms_i])\n",
        "  di2ri, dia2ria = map_idx(dms_a, dms_i, dms_missing, rs_a, rs_i, diff_max)\n",
        "  \n",
        "  # dms tensors, rs vs dms mismatches\n",
        "  dX, errors = [], []\n",
        "  for mut in muts:\n",
        "    tmp, error = rX.copy(), 0\n",
        "    # N-wise order\n",
        "    for m in mut.split(\":\"):\n",
        "      i = di2ri[int(m[1:-1])]\n",
        "      # wildtypes\n",
        "      rs_wt_j = a2i[rs_a[i]]\n",
        "      dms_wt_j = a2i[m[0]]\n",
        "      if rs_wt_j != dms_wt_j: error += 1\n",
        "      mut_j = a2i[m[-1]]\n",
        "      tmp[i, rs_wt_j], tmp[i, mut_j] = 0, 1\n",
        "    dX.append(tmp)\n",
        "    errors.append(error)\n",
        "\n",
        "  # collate\n",
        "  dX = np.stack(dX)[:, rs_ng, :][:, X_ng, :]\n",
        "  dY[\"seq_err\"] = errors\n",
        "  dY[\"hamm\"] = np.abs(rX[rs_ng, :][None, X_ng, :]-dX).sum((1, 2))/2\n",
        "    # index matching is one hell of a thing\n",
        "  dX2rs = np.array(list(dia2ria.items()))\n",
        "  dX2rs_ng = dX2rs[np.in1d(np.array([int(x[:-1]) for x in dX2rs[:, 1]]), rs_ng)]\n",
        "  dX2rs_ng[:, 1] = [str(i)+a[-1] for i, a in enumerate(dX2rs_ng[:, 1])]\n",
        "  dX2X_ng = dX2rs_ng[np.in1d(np.array([int(x[:-1]) for x in dX2rs_ng[:, 1]]), X_ng)]\n",
        "  dX2X_ng[:, 1] = [str(i)+a[-1] for i, a in enumerate(dX2X_ng[:, 1])]\n",
        "  return {\"dX2X_ng\": dX2X_ng, \"dX\": dX, \"dY\": dY}"
      ]
    },
    {
      "cell_type": "code",
      "execution_count": null,
      "metadata": {
        "id": "N_uOB-CraiAp"
      },
      "outputs": [],
      "source": [
        "def get_depth(depth, chains, con2X_ng, tri2a):\n",
        "  \"\"\"depth of amino acids in structure\"\"\"\n",
        "  raw = pd.read_csv(depth, sep=\"\\t\")\n",
        "  ia2d = dict(zip(\n",
        "    np.array([x+y for x, y in zip(\n",
        "      pd.Series(raw.index.values).apply(lambda x: int(x[2:])).astype(\"str\"),\n",
        "      raw[\"# chain:residue\"].map(tri2a).astype(\"str\")\n",
        "    )]), raw[\"all-atom\"]\n",
        "  ))\n",
        "  X_ng2depth = {}\n",
        "  for con_ia, X_ng_ia in dict(con2X_ng).items():\n",
        "    try: X_ng2depth.update({X_ng_ia: ia2d[con_ia]})\n",
        "    except: X_ng2depth.update({X_ng_ia: np.nan})\n",
        "  return {\"X_ng2depth\": np.array(list(X_ng2depth.items()))}"
      ]
    },
    {
      "cell_type": "code",
      "execution_count": null,
      "metadata": {
        "id": "PXYzKXxpaiAq"
      },
      "outputs": [],
      "source": [
        "def h2f(x, fcns, out=\"\"):\n",
        "  \"\"\"function from header\"\"\"\n",
        "  for f in fcns:\n",
        "    if f in x: out += f+\"\\n\"\n",
        "  if len(out) == 0: return \"other\"\n",
        "  elif out.count(\"\\n\") > 1: return \"multiple\"\n",
        "  else: return out.rstrip(\"\\n\")"
      ]
    },
    {
      "cell_type": "code",
      "execution_count": null,
      "metadata": {
        "id": "qw7GKnZbaiAq"
      },
      "outputs": [],
      "source": [
        "def make_msa(seqs, a2i, gap=.5, Neff=.8):\n",
        "  \"\"\"construct Multiple Sequence Alignment (MSA)\"\"\"\n",
        "  raw = np.array([[a2i[a] for a in seq] for seq in seqs])  \n",
        "  non_gap = np.where(np.mean((raw==a2i[\"-\"]).astype(np.float), 0)<gap)[0]\n",
        "  # non-gapped columns, raw msa, effective sequence weights\n",
        "  return {\n",
        "    \"X_ng\": non_gap,\n",
        "    \"X\": np.eye(len(a2i))[raw],\n",
        "    # calculated wrt \"clean\" indices\n",
        "    \"W\": 1.0/np.sum(1.0*((1.0-squareform(pdist(raw[:, non_gap], \"hamming\")))>=Neff), -1)\n",
        "  }"
      ]
    },
    {
      "cell_type": "code",
      "execution_count": null,
      "metadata": {
        "id": "FqZTi8GiaiAr"
      },
      "outputs": [],
      "source": [
        "def map_idx(za, zi, missing, ra, ri, diff_max):\n",
        "  \"\"\"map a.a. (za) & indices (zi) to reference (ra, ri)\"\"\"\n",
        "  \n",
        "  def _z2r(zi_tmp, ri_tmp, za_tmp, ra_tmp):\n",
        "    \"\"\"map seq to ref\"\"\"\n",
        "    zia = [str(i)+a for i, a in zip(zi_tmp, za_tmp)]\n",
        "    ria = [str(i)+a for i, a in zip(ri_tmp, ra_tmp)]\n",
        "    return dict(zip(zi_tmp, ri_tmp)), dict(zip(zia, ria))\n",
        "\n",
        "  def _hamm(length, ra_tmp, za_tmp):\n",
        "    \"\"\"hamming distance\"\"\"\n",
        "    weights = np.ones(length)\n",
        "    za_missing = np.where(za_tmp == \"-\")[0]\n",
        "    if len(za_missing) > len(za_tmp)/2: return np.inf\n",
        "    weights[za_missing] = 1e-7\n",
        "    return int(length*hamming(ra_tmp, za_tmp, weights))\n",
        "\n",
        "  # z subset r\n",
        "  if len(za) < len(ra):\n",
        "    l, L = len(za), len(ra)\n",
        "    for idx in np.arange(L):\n",
        "      x, y = idx, idx+l\n",
        "      ra_tmp, ri_tmp = ra[x:y], ri[x:y]\n",
        "      length = len(ra_tmp)\n",
        "      if length < diff_max: break\n",
        "      za_tmp, zi_tmp = za[:length], zi[:length]\n",
        "      if _hamm(length, ra_tmp, za_tmp) <= diff_max:\n",
        "        zi2ri, zia2ria = _z2r(zi_tmp, ri_tmp, za_tmp, ra_tmp); break\n",
        "  # r subset z\n",
        "  else: # (len(za) > len(ra)) or (len(za) == len(ra))\n",
        "    l, L = len(ra), len(za)\n",
        "    for idx in np.arange(L):\n",
        "      x, y = idx, idx+l\n",
        "      za_tmp, zi_tmp = za[x:y], zi[x:y]\n",
        "      length = len(za_tmp)\n",
        "      if length < diff_max: break\n",
        "      ra_tmp, ri_tmp = ra[:length], ri[:length]\n",
        "      if _hamm(length, ra_tmp, za_tmp) <= diff_max:\n",
        "        zi2ri, zia2ria = _z2r(zi_tmp, ri_tmp, za_tmp, ra_tmp); break\n",
        "  # ensure validity\n",
        "  try: return zi2ri, zia2ria\n",
        "  except: assert False, \"\\nra='\"+\"\".join(ra)+\"'\\nza='\"+\"\".join(za)+\"'\""
      ]
    },
    {
      "cell_type": "code",
      "execution_count": null,
      "metadata": {
        "id": "P5p4vrSsaiAr"
      },
      "outputs": [],
      "source": [
        "def parse_af(fname, alphabet, h_count=0, rs=\"\"):\n",
        "  \"\"\"clean / parse an alignment file to headers & sequences\"\"\"\n",
        "  # define, open\n",
        "  P = {\"h\": [], \"s\": []}\n",
        "  with open(fname, \"r\") as lines:\n",
        "    # parse\n",
        "    for l, L in enumerate(lines):\n",
        "      L = L.rstrip()\n",
        "      try:\n",
        "        # header\n",
        "        if L.startswith(\">\"):\n",
        "          h_count += 1\n",
        "          P[\"h\"].append(L[1:])\n",
        "          P[\"s\"].append([])\n",
        "        # sequence\n",
        "        else: P[\"s\"][-1].append(\"\".join([l for l in L if l in alphabet]))\n",
        "        if h_count == 1 and l > 0: rs += L\n",
        "      except: continue\n",
        "    # collate, indices w/ length == mode lengths\n",
        "    seqs = np.array([\"\".join(s) for s in P[\"s\"]])\n",
        "    seq_lengths = np.array([len(s) for s in seqs])\n",
        "    idx = np.where(seq_lengths == stats.mode(seq_lengths)[0][0])[0]\n",
        "    # collate\n",
        "    return {\n",
        "      # headers, sequences\n",
        "      \"h\": np.array(P[\"h\"])[idx], \"s\": seqs[idx],\n",
        "      # ref. seq., non_gapped ref. seq.\n",
        "      \"rs\": np.array(list(rs)),\n",
        "      \"rs_ng\": np.array([i for i, l in enumerate(rs) if l in alphabet])\n",
        "    }"
      ]
    },
    {
      "cell_type": "markdown",
      "metadata": {
        "id": "2yKVCH5JaiAr"
      },
      "source": [
        "# data prep"
      ]
    },
    {
      "cell_type": "code",
      "execution_count": null,
      "metadata": {
        "id": "48FcKbwqaiAs"
      },
      "outputs": [],
      "source": [
        "# settings\n",
        "F_dir = \"/home/jupyter-dylan/data/\""
      ]
    },
    {
      "cell_type": "code",
      "execution_count": null,
      "metadata": {
        "id": "X0A0b28_aiAs"
      },
      "outputs": [],
      "source": [
        "# # supplementals\n",
        "# ds_supp = {\n",
        "#   1: pd.read_excel(F_dir+\"/supplementals/41592_2018_138_MOESM3_ESM.xlsx\", None),\n",
        "#   2: pd.read_excel(F_dir+\"/supplementals/41592_2018_138_MOESM4_ESM.xlsx\", None),\n",
        "#   3: pd.read_excel(F_dir+\"/supplementals/41592_2018_138_MOESM5_ESM.xlsx\", None),\n",
        "#   4: pd.read_excel(F_dir+\"/supplementals/41592_2018_138_MOESM6_ESM.xlsx\", None),\n",
        "#   5: pd.read_excel(F_dir+\"/supplementals/41592_2018_138_MOESM7_ESM.xlsx\", None),\n",
        "#   6: pd.read_excel(F_dir+\"/supplementals/41592_2018_138_MOESM8_ESM.xlsx\", None),\n",
        "#   7: pd.read_csv(F_dir+\"/supplementals/41592_2018_138_MOESM9_ESM.csv\"),\n",
        "#   8: pd.read_excel(F_dir+\"/supplementals/41592_2018_138_MOESM10_ESM.xlsx\", None),\n",
        "#   9: pd.read_excel(F_dir+\"/supplementals/41592_2018_138_MOESM11_ESM.xlsx\", None)\n",
        "# }\n",
        "# np.save(F_dir+\"supplementals/ds_supp\", ds_supp)"
      ]
    },
    {
      "cell_type": "code",
      "execution_count": null,
      "metadata": {
        "id": "SgjUVeuaaiAs"
      },
      "outputs": [],
      "source": [
        "ds_supp = np.load(F_dir+\"DeepSeq/supplementals/ds_supp.npy\", allow_pickle=True).item()"
      ]
    },
    {
      "cell_type": "code",
      "execution_count": null,
      "metadata": {
        "id": "8rapCEl1aiAs"
      },
      "outputs": [],
      "source": [
        "[print(b[\"mutant\"].str.contains(\":\").sum(), \"\\t\", len(b), \"\\t\", a) for a, b in ds_supp[2].items()];"
      ]
    },
    {
      "cell_type": "code",
      "execution_count": null,
      "metadata": {
        "id": "PxDjS4qnaiAs"
      },
      "outputs": [],
      "source": [
        "[x for x in list(ds_supp[2].keys()) if \"BLAT\" in x]"
      ]
    },
    {
      "cell_type": "code",
      "execution_count": null,
      "metadata": {
        "id": "ruVMdSD4aiAs"
      },
      "outputs": [],
      "source": [
        "mut_data = ds_supp[2][\"BLAT_ECOLX_Tenaillon2013\"]"
      ]
    },
    {
      "cell_type": "code",
      "execution_count": null,
      "metadata": {
        "id": "iCic4r6LaiAt"
      },
      "outputs": [],
      "source": [
        "# check\n",
        "mut_data.head()"
      ]
    },
    {
      "cell_type": "code",
      "execution_count": null,
      "metadata": {
        "id": "eOCkvHcNaiAt"
      },
      "outputs": [],
      "source": [
        "# check\n",
        "mut_data.tail()"
      ]
    },
    {
      "cell_type": "code",
      "execution_count": null,
      "metadata": {
        "id": "aXzYXGGeaiAt"
      },
      "outputs": [],
      "source": [
        "mut_data.describe()"
      ]
    },
    {
      "cell_type": "code",
      "execution_count": null,
      "metadata": {
        "id": "5Zez40ulaiAt"
      },
      "outputs": [],
      "source": [
        "mut_data[mut_data[\"mutant\"].str.contains(\"M184\")]"
      ]
    },
    {
      "cell_type": "code",
      "execution_count": null,
      "metadata": {
        "id": "c5_QSiwraiAt"
      },
      "outputs": [],
      "source": [
        "# mutants\n",
        "muts = mut_data[\"mutant\"]\n",
        "muts = muts[~muts.str.contains(\"wt\")]\n",
        "print(\"N-wise\\t#\")\n",
        "[print(str(a+1)+\"\\t\"+str(b)) for a, b in zip(*np.unique(muts.str.count(\":\").values, return_counts=True))];\n",
        "# index, amino acid\n",
        "i_a = {int(x[1:]): x[0] for x in muts[~muts.str.contains(\":\")].apply(lambda x: x[:-1]).values.astype(\"str\")}\n",
        "if muts.str.contains(\":\").sum() > 0:\n",
        "  i_a.update({int(x[1:-1])-1: x[0] for x in \":\".join(muts[muts.str.contains(\":\")].values).split(\":\")})\n",
        "# missing indices\n",
        "i_a.update({i: \"-\" for i in np.setdiff1d(np.arange(np.max(list(i_a.keys()))+1), list(i_a.keys()))})\n",
        "# sort\n",
        "i_a = {i: i_a[i] for i in np.sort(list(i_a.keys()))}\n",
        "# DMS sequence\n",
        "print(\"\\nDMS seq:\\n\"+\"\".join(list(i_a.values())))"
      ]
    },
    {
      "cell_type": "markdown",
      "metadata": {
        "id": "kawgRAOLaiAt"
      },
      "source": [
        "**only structured proteins**"
      ]
    },
    {
      "cell_type": "code",
      "execution_count": null,
      "metadata": {
        "collapsed": true,
        "jupyter": {
          "outputs_hidden": true
        },
        "id": "aB3fru0CaiAt",
        "outputId": "9cde254a-2ac1-47d2-f866-8ee29539d8a1"
      },
      "outputs": [
        {
          "data": {
            "text/html": [
              "<div>\n",
              "<style scoped>\n",
              "    .dataframe tbody tr th:only-of-type {\n",
              "        vertical-align: middle;\n",
              "    }\n",
              "\n",
              "    .dataframe tbody tr th {\n",
              "        vertical-align: top;\n",
              "    }\n",
              "\n",
              "    .dataframe thead th {\n",
              "        text-align: right;\n",
              "    }\n",
              "</style>\n",
              "<table border=\"1\" class=\"dataframe\">\n",
              "  <thead>\n",
              "    <tr style=\"text-align: right;\">\n",
              "      <th></th>\n",
              "      <th>dataset_name</th>\n",
              "      <th>publication_name</th>\n",
              "      <th>experiment_name</th>\n",
              "    </tr>\n",
              "  </thead>\n",
              "  <tbody>\n",
              "    <tr>\n",
              "      <td>1</td>\n",
              "      <td>AMIE_PSEAE</td>\n",
              "      <td>Aliphatic amide hydrolase: Whitehead 2017</td>\n",
              "      <td>isobutyramide_normalized_fitness</td>\n",
              "    </tr>\n",
              "    <tr>\n",
              "      <td>4</td>\n",
              "      <td>B3VI55_LIPSTSTABLE</td>\n",
              "      <td>Levoglucosan kinase: Whitehead 2015</td>\n",
              "      <td>SelectionTwo</td>\n",
              "    </tr>\n",
              "    <tr>\n",
              "      <td>5</td>\n",
              "      <td>BF520_ENV</td>\n",
              "      <td>HIV env protein (BF520): Bloom 2018</td>\n",
              "      <td>fitness</td>\n",
              "    </tr>\n",
              "    <tr>\n",
              "      <td>6</td>\n",
              "      <td>BG_STRSQ</td>\n",
              "      <td>beta-glucosidase: Abate 2015</td>\n",
              "      <td>enrichment</td>\n",
              "    </tr>\n",
              "    <tr>\n",
              "      <td>7</td>\n",
              "      <td>BG505_ENV</td>\n",
              "      <td>HIV env protein (BG505): Bloom 2018</td>\n",
              "      <td>fitness</td>\n",
              "    </tr>\n",
              "    <tr>\n",
              "      <td>14</td>\n",
              "      <td>BLAT_ECOLX_Ranganathan2015</td>\n",
              "      <td>beta-lactamase: Ranganathan 2015</td>\n",
              "      <td>2500</td>\n",
              "    </tr>\n",
              "    <tr>\n",
              "      <td>30</td>\n",
              "      <td>BRCA_HUMAN_BRCT</td>\n",
              "      <td>BRCA (BRCT domain): Shendure 2018</td>\n",
              "      <td>function_score</td>\n",
              "    </tr>\n",
              "    <tr>\n",
              "      <td>31</td>\n",
              "      <td>BRCA_HUMAN_RING</td>\n",
              "      <td>BRCA (Ring domain): Shendure 2018</td>\n",
              "      <td>function_score</td>\n",
              "    </tr>\n",
              "    <tr>\n",
              "      <td>32</td>\n",
              "      <td>CALM1_HUMAN</td>\n",
              "      <td>Calmodulin-1: Roth 2017</td>\n",
              "      <td>screenscore</td>\n",
              "    </tr>\n",
              "    <tr>\n",
              "      <td>33</td>\n",
              "      <td>DLG</td>\n",
              "      <td>DLG: Ranganathan 2012</td>\n",
              "      <td>CRIPT</td>\n",
              "    </tr>\n",
              "    <tr>\n",
              "      <td>39</td>\n",
              "      <td>GAL4</td>\n",
              "      <td>GAL4 (DNA-binding domain): Shendure 2015</td>\n",
              "      <td>SEL_C_40h</td>\n",
              "    </tr>\n",
              "    <tr>\n",
              "      <td>41</td>\n",
              "      <td>HG_FLU</td>\n",
              "      <td>Influenza hemagglutinin: Bloom 2016</td>\n",
              "      <td>transformed_pref</td>\n",
              "    </tr>\n",
              "    <tr>\n",
              "      <td>42</td>\n",
              "      <td>HIS7_YEAST</td>\n",
              "      <td>Imidazoleglycerol-phosphate dehydratase: Kondr...</td>\n",
              "      <td>selection</td>\n",
              "    </tr>\n",
              "    <tr>\n",
              "      <td>43</td>\n",
              "      <td>HSP82</td>\n",
              "      <td>HSP90: Bolon 2016</td>\n",
              "      <td>selection_coefficient</td>\n",
              "    </tr>\n",
              "    <tr>\n",
              "      <td>45</td>\n",
              "      <td>IF1_ECOLI</td>\n",
              "      <td>Translation initiation factor IF-1: Kishony 2016</td>\n",
              "      <td>fitness_rich</td>\n",
              "    </tr>\n",
              "    <tr>\n",
              "      <td>56</td>\n",
              "      <td>KKA2</td>\n",
              "      <td>Kanamycin kinase APH(3')-II: Mikkelsen 2014</td>\n",
              "      <td>Kan18_avg</td>\n",
              "    </tr>\n",
              "    <tr>\n",
              "      <td>70</td>\n",
              "      <td>MK01_HUMAN</td>\n",
              "      <td>MAPK1/ERK2: Johannessen 2016</td>\n",
              "      <td>DOX_Average</td>\n",
              "    </tr>\n",
              "    <tr>\n",
              "      <td>78</td>\n",
              "      <td>MTH3_HAEAESTABILIZED</td>\n",
              "      <td>DNA methyltransferase HaeIII: Tawfik 2015</td>\n",
              "      <td>Wrel_G17_filtered</td>\n",
              "    </tr>\n",
              "    <tr>\n",
              "      <td>79</td>\n",
              "      <td>PA_FLU</td>\n",
              "      <td>Flu polymerase PA subunit: Sun 2015</td>\n",
              "      <td>RF_index</td>\n",
              "    </tr>\n",
              "    <tr>\n",
              "      <td>80</td>\n",
              "      <td>PABP_doubles</td>\n",
              "      <td>PABP doubles: Fields 2013</td>\n",
              "      <td>XY_Enrichment_score</td>\n",
              "    </tr>\n",
              "    <tr>\n",
              "      <td>82</td>\n",
              "      <td>PARE_PARD</td>\n",
              "      <td>Toxin-antitoxin complex: Laub 2015</td>\n",
              "      <td>fitness</td>\n",
              "    </tr>\n",
              "    <tr>\n",
              "      <td>84</td>\n",
              "      <td>POLG_HCVJF</td>\n",
              "      <td>Hepatitis C NS5A: Sun 2014</td>\n",
              "      <td>fitness</td>\n",
              "    </tr>\n",
              "    <tr>\n",
              "      <td>87</td>\n",
              "      <td>PTEN_HUMAN</td>\n",
              "      <td>Phosphatidylinositol 3:4:5-trisphosphate 3-pho...</td>\n",
              "      <td>score</td>\n",
              "    </tr>\n",
              "    <tr>\n",
              "      <td>90</td>\n",
              "      <td>RASH_HUMAN</td>\n",
              "      <td>GTPase HRas: Kuriyan 2017</td>\n",
              "      <td>unregulated</td>\n",
              "    </tr>\n",
              "    <tr>\n",
              "      <td>93</td>\n",
              "      <td>RL401_Fraser2016</td>\n",
              "      <td>Ubiquitin: Fraiser 2016</td>\n",
              "      <td>Caffeine</td>\n",
              "    </tr>\n",
              "    <tr>\n",
              "      <td>98</td>\n",
              "      <td>SUMO1_HUMAN</td>\n",
              "      <td>Small ubiquitin-related modifier 1: Roth 2017</td>\n",
              "      <td>screenscore</td>\n",
              "    </tr>\n",
              "    <tr>\n",
              "      <td>99</td>\n",
              "      <td>TIM_SULSO</td>\n",
              "      <td>TIM Barrel: S. solfataricus: Matthews 2017</td>\n",
              "      <td>fitness</td>\n",
              "    </tr>\n",
              "    <tr>\n",
              "      <td>100</td>\n",
              "      <td>TIM_THEMA</td>\n",
              "      <td>TIM Barrel: T. maritima: Matthews 2017</td>\n",
              "      <td>fitness</td>\n",
              "    </tr>\n",
              "    <tr>\n",
              "      <td>101</td>\n",
              "      <td>TIM_THETH</td>\n",
              "      <td>TIM Barrel: T. thermophilus: Matthews 2017</td>\n",
              "      <td>fitness</td>\n",
              "    </tr>\n",
              "    <tr>\n",
              "      <td>102</td>\n",
              "      <td>TPK1_HUMAN</td>\n",
              "      <td>Thiamin pyrophosphokinase 1: Roth 2017</td>\n",
              "      <td>screenscore</td>\n",
              "    </tr>\n",
              "    <tr>\n",
              "      <td>103</td>\n",
              "      <td>TPMT_HUMAN</td>\n",
              "      <td>Thiopurine S-methyltransferase: Fowler 2018</td>\n",
              "      <td>score</td>\n",
              "    </tr>\n",
              "    <tr>\n",
              "      <td>104</td>\n",
              "      <td>TRNA_YEAST</td>\n",
              "      <td>Yeast tRNA: Zhang 2015</td>\n",
              "      <td>fitness</td>\n",
              "    </tr>\n",
              "    <tr>\n",
              "      <td>105</td>\n",
              "      <td>UBC9_HUMAN</td>\n",
              "      <td>SUMO-conjugating enzyme UBC9: Roth 2017</td>\n",
              "      <td>screenscore</td>\n",
              "    </tr>\n",
              "    <tr>\n",
              "      <td>106</td>\n",
              "      <td>UBE4B</td>\n",
              "      <td>UBE4B: Klevit 2013</td>\n",
              "      <td>log2_ratio</td>\n",
              "    </tr>\n",
              "    <tr>\n",
              "      <td>107</td>\n",
              "      <td>YAP1</td>\n",
              "      <td>YAP1: Fields 2012</td>\n",
              "      <td>linear</td>\n",
              "    </tr>\n",
              "  </tbody>\n",
              "</table>\n",
              "</div>"
            ],
            "text/plain": [
              "                   dataset_name  \\\n",
              "1                    AMIE_PSEAE   \n",
              "4            B3VI55_LIPSTSTABLE   \n",
              "5                     BF520_ENV   \n",
              "6                      BG_STRSQ   \n",
              "7                     BG505_ENV   \n",
              "14   BLAT_ECOLX_Ranganathan2015   \n",
              "30              BRCA_HUMAN_BRCT   \n",
              "31              BRCA_HUMAN_RING   \n",
              "32                  CALM1_HUMAN   \n",
              "33                          DLG   \n",
              "39                         GAL4   \n",
              "41                       HG_FLU   \n",
              "42                   HIS7_YEAST   \n",
              "43                        HSP82   \n",
              "45                    IF1_ECOLI   \n",
              "56                         KKA2   \n",
              "70                   MK01_HUMAN   \n",
              "78         MTH3_HAEAESTABILIZED   \n",
              "79                       PA_FLU   \n",
              "80                 PABP_doubles   \n",
              "82                    PARE_PARD   \n",
              "84                   POLG_HCVJF   \n",
              "87                   PTEN_HUMAN   \n",
              "90                   RASH_HUMAN   \n",
              "93             RL401_Fraser2016   \n",
              "98                  SUMO1_HUMAN   \n",
              "99                    TIM_SULSO   \n",
              "100                   TIM_THEMA   \n",
              "101                   TIM_THETH   \n",
              "102                  TPK1_HUMAN   \n",
              "103                  TPMT_HUMAN   \n",
              "104                  TRNA_YEAST   \n",
              "105                  UBC9_HUMAN   \n",
              "106                       UBE4B   \n",
              "107                        YAP1   \n",
              "\n",
              "                                      publication_name  \\\n",
              "1            Aliphatic amide hydrolase: Whitehead 2017   \n",
              "4                  Levoglucosan kinase: Whitehead 2015   \n",
              "5                  HIV env protein (BF520): Bloom 2018   \n",
              "6                         beta-glucosidase: Abate 2015   \n",
              "7                  HIV env protein (BG505): Bloom 2018   \n",
              "14                    beta-lactamase: Ranganathan 2015   \n",
              "30                   BRCA (BRCT domain): Shendure 2018   \n",
              "31                   BRCA (Ring domain): Shendure 2018   \n",
              "32                             Calmodulin-1: Roth 2017   \n",
              "33                               DLG: Ranganathan 2012   \n",
              "39            GAL4 (DNA-binding domain): Shendure 2015   \n",
              "41                 Influenza hemagglutinin: Bloom 2016   \n",
              "42   Imidazoleglycerol-phosphate dehydratase: Kondr...   \n",
              "43                                   HSP90: Bolon 2016   \n",
              "45    Translation initiation factor IF-1: Kishony 2016   \n",
              "56         Kanamycin kinase APH(3')-II: Mikkelsen 2014   \n",
              "70                        MAPK1/ERK2: Johannessen 2016   \n",
              "78           DNA methyltransferase HaeIII: Tawfik 2015   \n",
              "79                 Flu polymerase PA subunit: Sun 2015   \n",
              "80                           PABP doubles: Fields 2013   \n",
              "82                  Toxin-antitoxin complex: Laub 2015   \n",
              "84                          Hepatitis C NS5A: Sun 2014   \n",
              "87   Phosphatidylinositol 3:4:5-trisphosphate 3-pho...   \n",
              "90                           GTPase HRas: Kuriyan 2017   \n",
              "93                             Ubiquitin: Fraiser 2016   \n",
              "98       Small ubiquitin-related modifier 1: Roth 2017   \n",
              "99          TIM Barrel: S. solfataricus: Matthews 2017   \n",
              "100             TIM Barrel: T. maritima: Matthews 2017   \n",
              "101         TIM Barrel: T. thermophilus: Matthews 2017   \n",
              "102             Thiamin pyrophosphokinase 1: Roth 2017   \n",
              "103        Thiopurine S-methyltransferase: Fowler 2018   \n",
              "104                             Yeast tRNA: Zhang 2015   \n",
              "105            SUMO-conjugating enzyme UBC9: Roth 2017   \n",
              "106                                 UBE4B: Klevit 2013   \n",
              "107                                  YAP1: Fields 2012   \n",
              "\n",
              "                      experiment_name  \n",
              "1    isobutyramide_normalized_fitness  \n",
              "4                        SelectionTwo  \n",
              "5                             fitness  \n",
              "6                          enrichment  \n",
              "7                             fitness  \n",
              "14                               2500  \n",
              "30                     function_score  \n",
              "31                     function_score  \n",
              "32                        screenscore  \n",
              "33                              CRIPT  \n",
              "39                          SEL_C_40h  \n",
              "41                   transformed_pref  \n",
              "42                          selection  \n",
              "43              selection_coefficient  \n",
              "45                       fitness_rich  \n",
              "56                          Kan18_avg  \n",
              "70                        DOX_Average  \n",
              "78                  Wrel_G17_filtered  \n",
              "79                           RF_index  \n",
              "80                XY_Enrichment_score  \n",
              "82                            fitness  \n",
              "84                            fitness  \n",
              "87                              score  \n",
              "90                        unregulated  \n",
              "93                           Caffeine  \n",
              "98                        screenscore  \n",
              "99                            fitness  \n",
              "100                           fitness  \n",
              "101                           fitness  \n",
              "102                       screenscore  \n",
              "103                             score  \n",
              "104                           fitness  \n",
              "105                       screenscore  \n",
              "106                        log2_ratio  \n",
              "107                            linear  "
            ]
          },
          "execution_count": 15,
          "metadata": {},
          "output_type": "execute_result"
        }
      ],
      "source": [
        "# DeepSeq Fig 3\n",
        "ds_supp[3][\"S3_all_predictions_to_statitics\"]\\\n",
        "  [ds_supp[3][\"S3_all_predictions_to_statitics\"][\"present_fig3\"] == \"Yes\"]\\\n",
        "    [[\"dataset_name\", \"publication_name\", \"experiment_name\"]]#.tail(10)"
      ]
    },
    {
      "cell_type": "code",
      "execution_count": null,
      "metadata": {
        "id": "TQnLSz1XaiAu"
      },
      "outputs": [],
      "source": [
        "# DeepSeq dataset name(s):\n",
        "  # alignment file name\n",
        "  # Pfam\n",
        "  # (sub)Family\n",
        "  # PDB\n",
        "  # Paperpile link\n",
        "DS_info = {\n",
        "  \"BLAT_ECOLX_Ranganathan2015\":  [\"BLAT_ECOLX_1_b0.5.i90c80\", \"PF13354\", \"BLAT_ECOLX\", \"1ERO\", (\"A\"),\n",
        "    \"https://paperpile.com/app/p/62172c11-f4a9-0343-82e7-1b97710eb5fc\"],\n",
        "  \"MTH3_HAEAESTABILIZED_Tawfik2015\": [\"MTH3_HAEAESTABILIZED_1_b0.5.i90c80\", \"PF00145\", \"MTH3_HAEAE\", \"1DCT\", (\"A\"),\n",
        "    \"https://paperpile.com/app/p/abda7505-edad-0aee-88b4-6a2643668220\"],\n",
        "  \"PABP_YEAST_Fields2013\":  [\"PABP_YEAST_1_b0.5.i90c80\", \"PF00076\", \"PABP_YEAST\", \"6R5K\", (\"D\"),\n",
        "    \"https://paperpile.com/app/p/201e25f8-a2b5-082a-88bc-0fe1d3a42fde\"],\n",
        "  \"BG_STRSQ_hmmerbit\": [\"BG_STRSQ_1_b0.5.i90c80\", \"PF00232\", \"Q59976_STRSQ\", \"1GNX\", (\"A\"),\n",
        "    \"https://paperpile.com/app/p/013946b3-c72b-0f72-9079-a806f0e89bc4\"],\n",
        "  \"KKA2_KLEPN_Mikkelsen2014\": [\"KKA2_KLEPN_1_b0.3.i90c80\", \"PF01636\", \"KKA2_KLEPN\", \"1ND4\", (\"A\"),\n",
        "    \"https://paperpile.com/app/p/12f370fc-1c06-02cb-9abe-096b65911ea1\"],\n",
        "  \"YAP1_HUMAN_Fields2012\": [\"YAP1_HUMAN_1_b0.5.i90c80\", \"PF00397\", \"YAP1_HUMAN\", \"1K9Q\", (\"A\"),\n",
        "    \"https://paperpile.com/app/p/e4d9eb89-b4d1-055a-bc36-3c411c6cb26e\"],\n",
        "  \"parEparD_Laub2015_all\": [\"parEparD_3.i90c80\", \"PF05016,PF03693\", \"F7YBW7_MESOW,F7YBW8_MESOW\", \"5CEG\", (\"B\", \"A\"),\n",
        "    \"https://paperpile.com/app/p/a9c1859f-03db-0c92-a069-b801de40d2db\"],\n",
        "  \"AMIE_PSEAE_Whitehead\": [\"AMIE_PSEAE_1_b0.3.i90c80\", \"PF00795\", \"AMIE_PSEAE\", \"2UXY\", (\"A\"),\n",
        "    \"https://paperpile.com/app/p/095f9ea7-9cdc-0048-bf1e-e873b2d40851\"],\n",
        "  \"DLG4_RAT_Ranganathan2012\": [\"DLG4_RAT_2_b0.45.i90c80\", \"PF00595\", \"DLG4_RAT\", \"1TP3\", (\"A\"),\n",
        "    \"https://paperpile.com/app/p/92f14073-00c8-0c2a-9639-11b9bad5de82\"]\n",
        "}\n",
        "# # TODO! indexing issues\n",
        "# todo_DS_info = {\n",
        "#   \"HSP82_YEAST_Bolon2016\": [\"HSP82_YEAST_1_b0.5.i90c80\", \"PF02518\", \"HATPase_c\", \"2CG9\", \n",
        "#     \"https://paperpile.com/app/p/889ff43d-64a8-090d-947a-5f42c90ce416\"],\n",
        "#   \"PA_FLU_Sun2015\": [\"PA_FLU_1_b0.5.i90c80\", \"PF00603\", \"PA_I34A1\", \"2ZNL\", \n",
        "#     \"https://paperpile.com/app/p/f258e0fb-3326-0a94-b871-682ae7a64721\"],\n",
        "#   \"YAP1_HUMAN_Fields2012-singles\": [\"YAP1_HUMAN_1_b0.5.i90c80\", \"PF00397\", \"YAP1_HUMAN\", \"1K9Q\", \n",
        "#     \"https://paperpile.com/app/p/e4d9eb89-b4d1-055a-bc36-3c411c6cb26e\"],\n",
        "# }\n",
        "# # not as important\n",
        "# todo_later = {\n",
        "#   \"GAL4_YEAST_Shendure2015\": [\"GAL4_YEAST_1_b0.6.i90c80\", \"PF00172\", \"GAL4_YEAST\", \"1D66\", (\"A\"),\n",
        "#     \"https://paperpile.com/app/p/d92b65b9-5d7f-0147-9b3e-32ba377e5286\"],\n",
        "#   \"HG_FLU_Bloom2016\": [\"HG_FLU_1_b0.5.i90c80\", \"PF00509\", \"HEMA_I34A1\", \"1RVX\", (\"A\"),\n",
        "#     \"https://paperpile.com/app/p/41dcf6d4-1d32-065a-be45-b22d99ac1724\"],\n",
        "#   \"HIS7_YEAST_Kondrashov2017\":  [\"HIS7_YEAST_1_b0.5.i90c80\", \"PF00475\", \"HIS7_YEAST\", \"6EZM\", (\"A\"),\n",
        "#     \"https://paperpile.com/app/p/38397f51-0b78-020b-8dcf-dd674dd09899\"],\n",
        "#   \"UBE4B_MOUSE_Klevit2013\": [\"UBE4B_MOUSE_1_b0.45.i90c80\", \"PF04564\", \"UBE4B_MOUSE\", \"2KR4\", (\"A\"),\n",
        "#     \"https://paperpile.com/app/p/3fa26562-2ea9-0e55-8bb5-90391edea684\"],\n",
        "# }"
      ]
    },
    {
      "cell_type": "markdown",
      "metadata": {
        "id": "wLS6YzWeaiAu"
      },
      "source": [
        "**structure**"
      ]
    },
    {
      "cell_type": "code",
      "execution_count": null,
      "metadata": {
        "id": "i3lNlCyoaiAu"
      },
      "outputs": [],
      "source": [
        "for ds, PDB in DS_info.items():\n",
        "  PDB = PDB[3]\n",
        "  PDB_in = F_dir+\"PDBs/\"+PDB+\".pdb\"\n",
        "  PDB_out = F_dir+\"cleaned/\"+PDB+\".con.txt\"\n",
        "  if not os.path.isfile(PDB_in) and not os.path.isfile(PDB_out):\n",
        "    print(ds, PDB)\n",
        "    # get\n",
        "    !wget -q -nc \"https://files.rcsb.org/view/\"$PDB\".pdb\" -O $PDB_in\n",
        "    # x-tal to contacts\n",
        "    !./tools/confind --p $PDB_in --rLib ./rotlibs | grep \"contact\" > $PDB_out"
      ]
    },
    {
      "cell_type": "markdown",
      "metadata": {
        "id": "9Q_W6a-maiAu"
      },
      "source": [
        "# MSA"
      ]
    },
    {
      "cell_type": "markdown",
      "metadata": {
        "id": "-jWYw37faiAu"
      },
      "source": [
        "**generate**"
      ]
    },
    {
      "cell_type": "code",
      "execution_count": null,
      "metadata": {
        "id": "4sfqB0m5aiAu",
        "outputId": "04688148-aa7d-4f3e-e23f-b32efbdd677f"
      },
      "outputs": [
        {
          "name": "stdout",
          "output_type": "stream",
          "text": [
            "BLAT_ECOLX_Ranganathan2015\n",
            "MTH3_HAEAESTABILIZED_Tawfik2015\n",
            "PABP_YEAST_Fields2013\n",
            "BG_STRSQ_hmmerbit\n",
            "KKA2_KLEPN_Mikkelsen2014\n",
            "YAP1_HUMAN_Fields2012\n",
            "parEparD_Laub2015_all\n",
            "AMIE_PSEAE_Whitehead\n",
            "DLG4_RAT_Ranganathan2012\n"
          ]
        }
      ],
      "source": [
        "print(\"\\n\".join(list(DS_info.keys())))"
      ]
    },
    {
      "cell_type": "code",
      "execution_count": null,
      "metadata": {
        "id": "DU0MrJ8zaiAu",
        "outputId": "2cd88359-178b-4ec5-e6ad-2e195d4a02f1"
      },
      "outputs": [
        {
          "name": "stdout",
          "output_type": "stream",
          "text": [
            "['DLG4_RAT_2_b0.45.i90c80', 'PF00595', 'DLG4_RAT', '1TP3', 'A', 'https://paperpile.com/app/p/92f14073-00c8-0c2a-9639-11b9bad5de82']\n"
          ]
        }
      ],
      "source": [
        "# choose\n",
        "ds = \"DLG4_RAT_Ranganathan2012\"\n",
        "print(DS_info[ds])\n",
        "af = DS_info[ds][0]\n",
        "dms = pd.concat([y for x, y in ds_supp[2].items() if ds in x], axis=0, sort=False)\n",
        "pdb = F_dir+\"cleaned/\"+DS_info[ds][3]+\".con.txt\"\n",
        "depth = F_dir+\"DEPTH/pdb\"+DS_info[ds][3].lower()+\".ent-residue.depth\"\n",
        "chains = DS_info[ds][4]\n",
        "out = ds+\"-\"+af"
      ]
    },
    {
      "cell_type": "code",
      "execution_count": null,
      "metadata": {
        "id": "xFjoTsIUaiAv"
      },
      "outputs": [],
      "source": [
        "# alignment file\n",
        "paf = parse_af(af.join([F_dir+\"cleaned/\", \".a2m\"]), aa_babel[\"alphabet\"])"
      ]
    },
    {
      "cell_type": "code",
      "execution_count": null,
      "metadata": {
        "id": "rFAgyt1daiAv"
      },
      "outputs": [],
      "source": [
        "# multiple sequence alignment\n",
        "DATA = make_msa(paf[\"s\"], aa_babel[\"a2i\"])\n",
        "DATA.update({x: y for x, y in paf.items() if \"rs\" in x})"
      ]
    },
    {
      "cell_type": "code",
      "execution_count": null,
      "metadata": {
        "id": "KyqX-NoZaiAv"
      },
      "outputs": [],
      "source": [
        "# DMS data\n",
        "DATA.update(**ds_dms(DATA[\"rs\"], DATA[\"rs_ng\"], DATA[\"X_ng\"], dms, aa_babel[\"a2i\"], 5))"
      ]
    },
    {
      "cell_type": "code",
      "execution_count": null,
      "metadata": {
        "id": "HvSB4M8PaiAv"
      },
      "outputs": [],
      "source": [
        "# structure\n",
        "DATA.update(**con_mtx(pdb, chains, aa_babel[\"tri2a\"], DATA[\"rs\"], DATA[\"rs_ng\"], DATA[\"X_ng\"], 5))"
      ]
    },
    {
      "cell_type": "code",
      "execution_count": null,
      "metadata": {
        "id": "6tbZx0kpaiAv"
      },
      "outputs": [],
      "source": [
        "# amino acid depth\n",
        "DATA.update(**get_depth(depth, chains, DATA[\"con2X_ng\"], aa_babel[\"tri2a\"]))"
      ]
    },
    {
      "cell_type": "code",
      "execution_count": null,
      "metadata": {
        "id": "MT9PBulEaiAv",
        "outputId": "12332eae-2045-4312-96da-182122063800"
      },
      "outputs": [
        {
          "name": "stdout",
          "output_type": "stream",
          "text": [
            "X_ng (82,)\n",
            "X (13568, 82, 21)\n",
            "W (13568,)\n",
            "rs (101,)\n",
            "rs_ng (82,)\n",
            "dX2X_ng (82, 2)\n",
            "dX (1659, 82, 21)\n",
            "dY (1659, 13)\n",
            "con2X_ng (82, 2)\n",
            "con (82, 82)\n",
            "X_ng2depth (82, 2)\n"
          ]
        }
      ],
      "source": [
        "# check\n",
        "for k, v in DATA.items(): print(k, v.shape)"
      ]
    },
    {
      "cell_type": "code",
      "execution_count": null,
      "metadata": {
        "id": "4R1syOKCaiAv",
        "outputId": "adad9b70-7a2d-48af-dd37-9baa45407c07"
      },
      "outputs": [
        {
          "name": "stdout",
          "output_type": "stream",
          "text": [
            "saving DLG4_RAT_Ranganathan2012-DLG4_RAT_2_b0.45.i90c80.npy\n"
          ]
        }
      ],
      "source": [
        "###### save data\n",
        "print(f\"saving {out}.npy\")\n",
        "np.save(F_dir+\"collated/\"+out, DATA)"
      ]
    },
    {
      "cell_type": "markdown",
      "metadata": {
        "id": "2PLBjOh1aiAv"
      },
      "source": [
        "# variants"
      ]
    },
    {
      "cell_type": "markdown",
      "metadata": {
        "id": "1fQjOG8maiAv"
      },
      "source": [
        "Beta Lac w/ metagenomes"
      ]
    },
    {
      "cell_type": "code",
      "execution_count": null,
      "metadata": {
        "id": "u05hyt-JaiAv"
      },
      "outputs": [],
      "source": [
        "# # alignment file\n",
        "# af = \"/home/jupyter-dylan/data/BLAT_ECOLX_PF13354/BLAT_ECOLX_1.meta.i90c75.fas\"\n",
        "# paf = parse_af(af, aa_babel[\"alphabet\"])\n",
        "# out = ds+\"-BLAT_ECOLX_1.meta.i90c75\""
      ]
    },
    {
      "cell_type": "markdown",
      "metadata": {
        "id": "21czfSukaiAv"
      },
      "source": [
        "Beta Lac M184T"
      ]
    },
    {
      "cell_type": "code",
      "execution_count": null,
      "metadata": {
        "id": "STKiyfcraiAv"
      },
      "outputs": [],
      "source": [
        "# dms = pd.concat([dms, pd.DataFrame({\n",
        "#   x: y.apply(lambda z: \"M180T:\"+z).values if x == \"mutant\" else np.tile(np.nan, len(y))\n",
        "#     for x, y in dms.items()\n",
        "# })], 0, sort=False, ignore_index=True)\n",
        "# out = ds+\"-M180T-\"+af"
      ]
    },
    {
      "cell_type": "markdown",
      "metadata": {
        "id": "b40CcskXaiAv"
      },
      "source": [
        "Chorismate Mutase"
      ]
    },
    {
      "cell_type": "code",
      "execution_count": null,
      "metadata": {
        "id": "1qGBrVjcaiAw"
      },
      "outputs": [],
      "source": [
        "# # alignment file\n",
        "#   # full sequence\n",
        "# up_pf = \"CMPDT_ECOLI_PF01817\"\n",
        "#   # only chorismate mutase domain\n",
        "# # up_pf = \"CMPDT_ECOLI_PF01817\"\n",
        "# pdb = F_dir+\"cleaned/1ECM.con.txt\"\n",
        "# out = up_pf\n",
        "# af = \"/home/jupyter-dylan/data/\"+up_pf.split(\".\")[0]+\"/\"+up_pf+\".i90c80.a3m\"\n",
        "# paf = parse_af(af, aa_babel[\"alphabet\"])\n",
        "# # multiple sequence alignment\n",
        "# DATA = make_msa(paf[\"s\"], aa_babel[\"a2i\"])\n",
        "# DATA.update({x: y for x, y in paf.items() if \"rs\" in x})\n",
        "# # structure\n",
        "# DATA.update(**con_mtx(pdb, (\"A\", \"B\"), aa_babel[\"tri2a\"], DATA[\"rs\"], DATA[\"rs_ng\"], DATA[\"X_ng\"], 5))"
      ]
    },
    {
      "cell_type": "markdown",
      "metadata": {
        "id": "F4b3sb_EaiAw"
      },
      "source": [
        "parEparD_PF05016_PF03693"
      ]
    },
    {
      "cell_type": "code",
      "execution_count": null,
      "metadata": {
        "id": "fbYpGxqLaiAw"
      },
      "outputs": [],
      "source": [
        "# # alignment file\n",
        "# af = \"/home/jupyter-dylan/data/parEparD_PF05016_PF03693/parEparD_PF05016_PF03693.a3m\"\n",
        "# paf = parse_af(af, aa_babel[\"alphabet\"])\n",
        "# out = ds+\"-parEparD_PF05016_PF03693\""
      ]
    },
    {
      "cell_type": "code",
      "execution_count": null,
      "metadata": {
        "id": "O3ejZ1i4aiAw"
      },
      "outputs": [],
      "source": [
        "# DATA[\"rs_ng\"] = np.arange(len(DATA[\"rs\"]))\n",
        "# DATA[\"X_ng\"] = np.arange(len(DATA[\"rs\"]))"
      ]
    },
    {
      "cell_type": "markdown",
      "metadata": {
        "id": "3-IKoliyaiAw"
      },
      "source": [
        "PABP_RRM2"
      ]
    },
    {
      "cell_type": "code",
      "execution_count": null,
      "metadata": {
        "id": "jiMiEOcJaiAw"
      },
      "outputs": [],
      "source": [
        "# af = \"PABP_RRM2_PF00076.i90c80\"\n",
        "# paf = parse_af(af.join([F_dir+\"cleaned/\", \".a3m\"]), aa_babel[\"alphabet\"])\n",
        "# out = ds+\"-\"+af"
      ]
    },
    {
      "cell_type": "markdown",
      "metadata": {
        "id": "c8Rp6dNpaiAw"
      },
      "source": [
        "YAP1 from MaveDB"
      ]
    },
    {
      "cell_type": "code",
      "execution_count": null,
      "metadata": {
        "id": "A3tohv26aiAw"
      },
      "outputs": [],
      "source": [
        "# ################################################################################\n",
        "# def _YAP1_muts(x, tri2a=aa_babel[\"tri2a\"]):\n",
        "#   tri_muts = x.lstrip(\"p.\").lstrip(\"\\[\").rstrip(\"\\]\").upper().split(\";\")\n",
        "#   muts = []\n",
        "#   for x in tri_muts:\n",
        "#     wt, i, mut = x[:3], x[3:-3], x[-3:]\n",
        "#     if wt not in tri2a.keys() or mut not in tri2a.keys(): return \"error\"\n",
        "#     muts.append(tri2a[wt]+i+tri2a[mut])\n",
        "#   return \":\".join(muts)\n",
        "# ################################################################################\n",
        "# YAP1_MaveDB_in = pd.read_csv(F_dir+\"/WW_domain_P46937/urn_mavedb_00000002-a-2_scores.csv\", header=4)\n",
        "# YAP1_MaveDB_in = YAP1_MaveDB_in[YAP1_MaveDB_in[\"hgvs_pro\"].str.count(\"p.\") > 0]\n",
        "# YAP1_MaveDB_in[\"hgvs_pro\"] = YAP1_MaveDB_in[\"hgvs_pro\"].apply(lambda x: _YAP1_muts(x))\n",
        "# YAP1_MaveDB_in = YAP1_MaveDB_in[~YAP1_MaveDB_in[\"hgvs_pro\"].str.contains(\"error\")]\n",
        "# dms_MaveDB = pd.DataFrame({\n",
        "#   \"mutant\": YAP1_MaveDB_in[\"hgvs_pro\"].values,\n",
        "#   **{x: YAP1_MaveDB_in[x].values for x in\n",
        "#     [\"score\", \"SE\", \"epsilon\", \"SE_101208\", \"score_101208\", \"SE_110307\", \"score_110307\"]}\n",
        "# })\n",
        "# ################################################################################\n",
        "# _dms = ds_dms(DATA[\"rs\"], DATA[\"rs_ng\"], DATA[\"X_ng\"], dms_MaveDB, aa_babel[\"a2i\"], 5)\n",
        "# DATA[\"mDB_dX2X_ng\"] = _dms[\"dX2X_ng\"]\n",
        "# DATA[\"mDB_dX\"] = _dms[\"dX\"]\n",
        "# DATA[\"mDB_dY\"] = _dms[\"dY\"]\n",
        "# DATA[\"mDB_dY\"][\"mDB\"] = np.tile([True], len(DATA[\"mDB_dY\"]))\n",
        "# ################################################################################"
      ]
    },
    {
      "cell_type": "code",
      "execution_count": null,
      "metadata": {
        "id": "9UsMSd60aiAw"
      },
      "outputs": [],
      "source": [
        "# combine DMS\n",
        "dX = np.concatenate([dX, msa[\"mDB_dX\"]])\n",
        "dY = pd.concat([dY, msa[\"mDB_dY\"].copy()], 0)\n",
        "mDB_aln = dict(np.concatenate([dX2X_ng, msa[\"mDB_dX2X_ng\"]]))\n",
        "dY[\"mDB_muts\"] = dY[\"muts\"].apply(lambda x: [\"error\"\n",
        "  if y[:-1] not in mDB_aln.keys() else mDB_aln[y[1:-1]+y[0]]\n",
        "    for y in x.split(\":\")\n",
        "])"
      ]
    },
    {
      "cell_type": "code",
      "execution_count": null,
      "metadata": {
        "id": "NKVa8cb_aiAw"
      },
      "outputs": [],
      "source": [
        ""
      ]
    }
  ],
  "metadata": {
    "accelerator": "GPU",
    "colab": {
      "collapsed_sections": [],
      "name": "data_prep_cont.ipynb",
      "provenance": [],
      "toc_visible": true,
      "include_colab_link": true
    },
    "kernelspec": {
      "display_name": "Python 3",
      "language": "python",
      "name": "python3"
    },
    "language_info": {
      "codemirror_mode": {
        "name": "ipython",
        "version": 3
      },
      "file_extension": ".py",
      "mimetype": "text/x-python",
      "name": "python",
      "nbconvert_exporter": "python",
      "pygments_lexer": "ipython3",
      "version": "3.6.7"
    }
  },
  "nbformat": 4,
  "nbformat_minor": 0
}